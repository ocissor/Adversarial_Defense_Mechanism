{
  "nbformat": 4,
  "nbformat_minor": 0,
  "metadata": {
    "colab": {
      "name": "Cifar10Classifier.ipynb",
      "provenance": [],
      "collapsed_sections": [],
      "authorship_tag": "ABX9TyPKdyjicQ/TLClZ6UnZmdgi",
      "include_colab_link": true
    },
    "kernelspec": {
      "name": "python3",
      "display_name": "Python 3"
    }
  },
  "cells": [
    {
      "cell_type": "markdown",
      "metadata": {
        "id": "view-in-github",
        "colab_type": "text"
      },
      "source": [
        "<a href=\"https://colab.research.google.com/github/ocissor/Adversarial_Defense_Mechanism/blob/master/Cifar10Classifier.ipynb\" target=\"_parent\"><img src=\"https://colab.research.google.com/assets/colab-badge.svg\" alt=\"Open In Colab\"/></a>"
      ]
    },
    {
      "cell_type": "code",
      "metadata": {
        "id": "LvuN0Z6f9yPg"
      },
      "source": [
        "import cv2\r\n",
        "import numpy as np\r\n",
        "import matplotlib.pyplot as plt\r\n",
        "import random\r\n",
        "import torch\r\n",
        "import torchvision\r\n",
        "from torchvision import transforms,datasets\r\n",
        "import torch.optim as optim\r\n",
        "from torch.autograd import Variable\r\n",
        "import torch.nn as nn\r\n",
        "import torch.nn.functional as F\r\n",
        "import PIL\r\n",
        "from PIL import Image\r\n",
        "import shutil\r\n",
        "from torch.utils.data.sampler import SubsetRandomSampler\r\n",
        "import torch.backends.cudnn as cudnn\r\n",
        "import torchvision.models as models\r\n",
        "from tqdm import tqdm\r\n",
        "from collections import OrderedDict"
      ],
      "execution_count": null,
      "outputs": []
    },
    {
      "cell_type": "code",
      "metadata": {
        "id": "f96QzBiO9zKI"
      },
      "source": [
        "from google.colab import drive\r\n",
        "\r\n",
        "drive.mount('/content/gdrive')"
      ],
      "execution_count": null,
      "outputs": []
    },
    {
      "cell_type": "code",
      "metadata": {
        "id": "eh5IRwkm93G_"
      },
      "source": [
        "torch.backends.cudnn.deterministic = True\r\n",
        "device = torch.device(\"cuda:0\" if torch.cuda.is_available() else \"cpu\")"
      ],
      "execution_count": null,
      "outputs": []
    },
    {
      "cell_type": "code",
      "metadata": {
        "id": "8B8-q47n93KK"
      },
      "source": [
        "model = torchvision.models.resnet50(pretrained=True)"
      ],
      "execution_count": null,
      "outputs": []
    },
    {
      "cell_type": "code",
      "metadata": {
        "id": "Cw-WMFjn93Ox"
      },
      "source": [
        "for param in model.parameters():\r\n",
        "    param.requires_grad = False \r\n",
        "#Classifier architecture to put on top of resnet50\r\n",
        "fc = nn.Sequential(OrderedDict([\r\n",
        "    ('fc1', nn.Linear(2048,100)),\r\n",
        "    ('relu', nn.ReLU()),\r\n",
        "    ('fc2', nn.Linear(100,10)),\r\n",
        "    ('output', nn.LogSoftmax(dim=1))\r\n",
        "]))\r\n",
        "\r\n",
        "model.fc = fc"
      ],
      "execution_count": null,
      "outputs": []
    },
    {
      "cell_type": "code",
      "metadata": {
        "id": "TsRbxYbl93Ri"
      },
      "source": [
        "transform = transforms.Compose(\r\n",
        "    [transforms.ToTensor(),\r\n",
        "     transforms.Normalize((0.5, 0.5, 0.5), (0.5, 0.5, 0.5))])\r\n",
        "\r\n",
        "trainset = torchvision.datasets.CIFAR10(root='./data', train=True,\r\n",
        "                                        download=True, transform=transform)\r\n",
        "trainloader = torch.utils.data.DataLoader(trainset, batch_size=4,\r\n",
        "                                          shuffle=True, num_workers=2)\r\n",
        "\r\n",
        "testset = torchvision.datasets.CIFAR10(root='./data', train=False,\r\n",
        "                                       download=True, transform=transform)\r\n",
        "testloader = torch.utils.data.DataLoader(testset, batch_size=1,\r\n",
        "                                         shuffle=False, num_workers=2)\r\n",
        "\r\n",
        "classes = ('plane', 'car', 'bird', 'cat',\r\n",
        "           'deer', 'dog', 'frog', 'horse', 'ship', 'truck')"
      ],
      "execution_count": null,
      "outputs": []
    },
    {
      "cell_type": "code",
      "metadata": {
        "id": "tlXYUJmS93Wt"
      },
      "source": [
        "criterion = nn.CrossEntropyLoss()\r\n",
        "optimizer = optim.SGD(model.parameters(), lr=0.001, momentum=0.9)"
      ],
      "execution_count": null,
      "outputs": []
    },
    {
      "cell_type": "code",
      "metadata": {
        "id": "FUsSXGns93Zb"
      },
      "source": [
        "epochs = 15\r\n",
        "accuracy  = []\r\n",
        "for epoch in tqdm(range(epochs)):\r\n",
        "    model.train()\r\n",
        "    print(\"\\n Training Started!\")\r\n",
        "    for data in tqdm(train_loader):\r\n",
        "        inputs,labels=data\r\n",
        "        inputs = inputs.to(device)\r\n",
        "        inputs=inputs.double()\r\n",
        "        inputs=Variable(inputs)\r\n",
        "        labels = labels.to(device)\r\n",
        "        labels=Variable(labels)\r\n",
        "        optimizer.zero_grad()\r\n",
        "        outputs=model.forward(inputs)\r\n",
        "        loss=criterion(outputs,labels)\r\n",
        "        loss.backward()\r\n",
        "        optimizer.step()\r\n",
        "#==============================================================================================================================#\r\n",
        "    acc = 0\r\n",
        "    Total_images = 0\r\n",
        "    model.eval()\r\n",
        "    print(\"Starting validation after epoch number {}\".format(epoch))\r\n",
        "    for data in validation_loader:\r\n",
        "        input,label=data\r\n",
        "        Total_images += len(input)\r\n",
        "        input = input.to(device)\r\n",
        "        input=input.double()\r\n",
        "        input=Variable(input)\r\n",
        "        label= label.to(device)\r\n",
        "        label=Variable(label)\r\n",
        "        output=model.forward(input)\r\n",
        "        print(\"prediction:{} || label:{}\".format(output.argmax().item(),label.item()))\r\n",
        "        if output.argmax().item() == label.item():\r\n",
        "          acc+=1\r\n",
        "    Accuracy = acc/Total_images\r\n",
        "    accuracy.append(Accuracy)\r\n",
        "    print(\"Accuracy on validation set after {} epoch is {}\".format(epoch,Accuracy))\r\n",
        "    l = len(accuracy)\r\n",
        "    if len(accuracy) == 1:\r\n",
        "        pass\r\n",
        "    if accuracy[l-1] > accuracy[l-2]:\r\n",
        "      model_save_name = 'Cifar10classifier.pt'\r\n",
        "      path = F\"/content/gdrive/My Drive/{model_save_name}\" \r\n",
        "      torch.save(model.state_dict(), path)  \r\n",
        "      print(\"model parameters saved!!\")"
      ],
      "execution_count": null,
      "outputs": []
    }
  ]
}